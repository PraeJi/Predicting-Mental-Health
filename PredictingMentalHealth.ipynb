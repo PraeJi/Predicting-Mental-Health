{
  "cells": [
    {
      "cell_type": "markdown",
      "metadata": {
        "id": "view-in-github",
        "colab_type": "text"
      },
      "source": [
        "<a href=\"https://colab.research.google.com/github/PraeJi/Predicting-Mental-Health/blob/main/PredictingMentalHealth.ipynb\" target=\"_parent\"><img src=\"https://colab.research.google.com/assets/colab-badge.svg\" alt=\"Open In Colab\"/></a>"
      ]
    },
    {
      "cell_type": "markdown",
      "source": [
        "# **Predicting mental health with machine learning**"
      ],
      "metadata": {
        "id": "L43FQNVKUl-v"
      }
    },
    {
      "cell_type": "markdown",
      "source": [
        "# import"
      ],
      "metadata": {
        "id": "dvlbLHNSKWru"
      }
    },
    {
      "cell_type": "code",
      "source": [
        "import pandas as pd\n",
        "from sklearn.model_selection import train_test_split\n",
        "from sklearn.preprocessing import LabelEncoder, OneHotEncoder\n",
        "from sklearn.neighbors import KNeighborsClassifier\n",
        "from sklearn.metrics import accuracy_score, classification_report\n",
        "from sklearn.metrics import confusion_matrix"
      ],
      "metadata": {
        "id": "zbqn4K2hG-7u"
      },
      "execution_count": null,
      "outputs": []
    },
    {
      "cell_type": "markdown",
      "source": [
        "# Read dataset"
      ],
      "metadata": {
        "id": "VEfL2GWP1Cj5"
      }
    },
    {
      "cell_type": "code",
      "execution_count": null,
      "metadata": {
        "id": "urPxTJhhoAl-"
      },
      "outputs": [],
      "source": [
        "df = pd.read_excel(\"Mental Health.xlsx\")\n",
        "df.head()"
      ]
    },
    {
      "cell_type": "code",
      "execution_count": null,
      "metadata": {
        "colab": {
          "base_uri": "https://localhost:8080/"
        },
        "id": "mEZ57U3Rqv6Z",
        "outputId": "99c6feec-6271-4c69-e15a-e220ec2f4e97"
      },
      "outputs": [
        {
          "output_type": "execute_result",
          "data": {
            "text/plain": [
              "(107, 24)"
            ]
          },
          "metadata": {},
          "execution_count": 3
        }
      ],
      "source": [
        "df.shape"
      ]
    },
    {
      "cell_type": "markdown",
      "source": [
        "\n",
        "\n",
        "# Missing data\n"
      ],
      "metadata": {
        "id": "9geIqYEK1PqI"
      }
    },
    {
      "cell_type": "code",
      "execution_count": null,
      "metadata": {
        "id": "huu50_5-rKOU",
        "colab": {
          "base_uri": "https://localhost:8080/"
        },
        "outputId": "82ec8ab2-6207-42a4-b1c1-9e9245f1a3ce"
      },
      "outputs": [
        {
          "output_type": "execute_result",
          "data": {
            "text/plain": [
              "อายุ                                                                                                        0\n",
              "เพศ                                                                                                         0\n",
              "ส่วนที่ 1 [ท่านรู้สึกเบื่อ ไม่สนใจอยากทำอะไร]                                                               0\n",
              "ส่วนที่ 1 [ไม่สบายใจ ซึมเศร้า ท้อแท้]                                                                       0\n",
              "ส่วนที่ 1 [หลับยากหรือหลับๆ ตื่นๆ]                                                                          0\n",
              "ส่วนที่ 1 [เหนื่อยง่ายหรือไม่ค่อยมีแรง]                                                                     2\n",
              "ส่วนที่ 1 [เบื่ออาหารหรือกินมากเกินไป]                                                                      2\n",
              "ส่วนที่ 1 [รู้สึกไม่ดีกับตัวเองคิดว่าตัวเองล้มเหลวหรือครอบครัวผิดหวัง]                                      0\n",
              "ส่วนที่ 1 [สมาธิไม่ดีเวลาทำอะไร เช่น ดูโทรทัศน์ ฟังวิทยุ หรือทำงานที่ต้องใช้ความตั้งใจ]                     0\n",
              "ส่วนที่ 1 [พูดช้า ทำอะไรช้าลงจนคนอื่นสังเกตเห็นได้หรือกระสับกระส่ายไม่สามารถอยู่นิ่งได้เหมือนที่เคยเป็น]    1\n",
              "ส่วนที่ 1 [คิดทำร้ายตนเอง หรือคิดว่าถ้าตายไปคงจะดี]                                                         1\n",
              "ส่วนที่ 2 [รู้สึกตึงเครียด วิตกกังวล หรือ กระวนกระวาย]                                                      1\n",
              "ส่วนที่ 2 [ไม่สามารถหยุดหรือควบคุมความกังวลได้]                                                             2\n",
              "ส่วนที่ 2 [กังวลมากเกินไปในเรื่องต่างๆ]                                                                     3\n",
              "ส่วนที่ 2 [ทำตัวให้ผ่อนคลายได้ยาก]                                                                          1\n",
              "ส่วนที่ 2 [รู้สึกกระสับกระส่ายจนไม่สามารถนั่งนิ่งๆ ได้]                                                     3\n",
              "ส่วนที่ 2 [รู้สึกกลัวเหมือนว่าจะมีอะไรร้ายๆ เกิดขึ้น]                                                       2\n",
              "ส่วนที่ 3 [มีปัญหาการนอน นอนไม่หลับหรือนอนมาก]                                                              1\n",
              "ส่วนที่ 3 [มีสมาธิน้อยลง]                                                                                   1\n",
              "ส่วนที่ 3 [หงุดหงิด / กระวนกระวาย / ว้าวุ้นใจ]                                                              2\n",
              "ส่วนที่ 3 [รู้สึกเบื่อ เซ็ง]                                                                                3\n",
              "ส่วนที่ 3 [ไม่อยากพบปะผู้คน]                                                                                1\n",
              "ระดับเกรดเฉลี่ยของท่าน                                                                                      2\n",
              "ท่านมีความกังวลเรื่องใดมากที่สุด                                                                            2\n",
              "dtype: int64"
            ]
          },
          "metadata": {},
          "execution_count": 4
        }
      ],
      "source": [
        "df.isnull().sum()"
      ]
    },
    {
      "cell_type": "code",
      "execution_count": null,
      "metadata": {
        "id": "MM9xceeAriSO",
        "colab": {
          "base_uri": "https://localhost:8080/"
        },
        "outputId": "15c27fd2-388a-4e42-8e86-c05e3f1d117e"
      },
      "outputs": [
        {
          "output_type": "execute_result",
          "data": {
            "text/plain": [
              "อายุ                                                                                                        0\n",
              "เพศ                                                                                                         0\n",
              "ส่วนที่ 1 [ท่านรู้สึกเบื่อ ไม่สนใจอยากทำอะไร]                                                               0\n",
              "ส่วนที่ 1 [ไม่สบายใจ ซึมเศร้า ท้อแท้]                                                                       0\n",
              "ส่วนที่ 1 [หลับยากหรือหลับๆ ตื่นๆ]                                                                          0\n",
              "ส่วนที่ 1 [เหนื่อยง่ายหรือไม่ค่อยมีแรง]                                                                     0\n",
              "ส่วนที่ 1 [เบื่ออาหารหรือกินมากเกินไป]                                                                      0\n",
              "ส่วนที่ 1 [รู้สึกไม่ดีกับตัวเองคิดว่าตัวเองล้มเหลวหรือครอบครัวผิดหวัง]                                      0\n",
              "ส่วนที่ 1 [สมาธิไม่ดีเวลาทำอะไร เช่น ดูโทรทัศน์ ฟังวิทยุ หรือทำงานที่ต้องใช้ความตั้งใจ]                     0\n",
              "ส่วนที่ 1 [พูดช้า ทำอะไรช้าลงจนคนอื่นสังเกตเห็นได้หรือกระสับกระส่ายไม่สามารถอยู่นิ่งได้เหมือนที่เคยเป็น]    0\n",
              "ส่วนที่ 1 [คิดทำร้ายตนเอง หรือคิดว่าถ้าตายไปคงจะดี]                                                         0\n",
              "ส่วนที่ 2 [รู้สึกตึงเครียด วิตกกังวล หรือ กระวนกระวาย]                                                      0\n",
              "ส่วนที่ 2 [ไม่สามารถหยุดหรือควบคุมความกังวลได้]                                                             0\n",
              "ส่วนที่ 2 [กังวลมากเกินไปในเรื่องต่างๆ]                                                                     0\n",
              "ส่วนที่ 2 [ทำตัวให้ผ่อนคลายได้ยาก]                                                                          0\n",
              "ส่วนที่ 2 [รู้สึกกระสับกระส่ายจนไม่สามารถนั่งนิ่งๆ ได้]                                                     0\n",
              "ส่วนที่ 2 [รู้สึกกลัวเหมือนว่าจะมีอะไรร้ายๆ เกิดขึ้น]                                                       0\n",
              "ส่วนที่ 3 [มีปัญหาการนอน นอนไม่หลับหรือนอนมาก]                                                              0\n",
              "ส่วนที่ 3 [มีสมาธิน้อยลง]                                                                                   0\n",
              "ส่วนที่ 3 [หงุดหงิด / กระวนกระวาย / ว้าวุ้นใจ]                                                              0\n",
              "ส่วนที่ 3 [รู้สึกเบื่อ เซ็ง]                                                                                0\n",
              "ส่วนที่ 3 [ไม่อยากพบปะผู้คน]                                                                                0\n",
              "ระดับเกรดเฉลี่ยของท่าน                                                                                      0\n",
              "ท่านมีความกังวลเรื่องใดมากที่สุด                                                                            0\n",
              "dtype: int64"
            ]
          },
          "metadata": {},
          "execution_count": 5
        }
      ],
      "source": [
        "df = df.fillna(df.mode().iloc[0])\n",
        "\n",
        "df.isnull().sum()"
      ]
    },
    {
      "cell_type": "markdown",
      "source": [
        "# ระดับคะแนนสุขภาพจิต (0-3)"
      ],
      "metadata": {
        "id": "FxETCryf1fAn"
      }
    },
    {
      "cell_type": "code",
      "execution_count": null,
      "metadata": {
        "id": "sykCIBdJvZfm",
        "colab": {
          "base_uri": "https://localhost:8080/",
          "height": 600
        },
        "outputId": "640cff37-1808-4437-aabe-50b65a4f0f7c"
      },
      "outputs": [
        {
          "output_type": "execute_result",
          "data": {
            "text/plain": [
              "       อายุ     เพศ  ส่วนที่ 1 [ท่านรู้สึกเบื่อ ไม่สนใจอยากทำอะไร]  \\\n",
              "0  19-21 ปี    หญิง                                              0   \n",
              "1  22-24 ปี    หญิง                                              1   \n",
              "2  19-21 ปี  LGBTQ+                                              1   \n",
              "3  19-21 ปี    หญิง                                              1   \n",
              "4  19-21 ปี    หญิง                                              3   \n",
              "\n",
              "   ส่วนที่ 1 [ไม่สบายใจ ซึมเศร้า ท้อแท้]  ส่วนที่ 1 [หลับยากหรือหลับๆ ตื่นๆ]  \\\n",
              "0                                      0                                   1   \n",
              "1                                      1                                   1   \n",
              "2                                      2                                   2   \n",
              "3                                      1                                   2   \n",
              "4                                      2                                   1   \n",
              "\n",
              "   ส่วนที่ 1 [เหนื่อยง่ายหรือไม่ค่อยมีแรง]  \\\n",
              "0                                        0   \n",
              "1                                        2   \n",
              "2                                        1   \n",
              "3                                        1   \n",
              "4                                        3   \n",
              "\n",
              "   ส่วนที่ 1 [เบื่ออาหารหรือกินมากเกินไป]  \\\n",
              "0                                       1   \n",
              "1                                       2   \n",
              "2                                       2   \n",
              "3                                       1   \n",
              "4                                       1   \n",
              "\n",
              "   ส่วนที่ 1 [รู้สึกไม่ดีกับตัวเองคิดว่าตัวเองล้มเหลวหรือครอบครัวผิดหวัง]  \\\n",
              "0                                                  0                        \n",
              "1                                                  2                        \n",
              "2                                                  2                        \n",
              "3                                                  0                        \n",
              "4                                                  2                        \n",
              "\n",
              "   ส่วนที่ 1 [สมาธิไม่ดีเวลาทำอะไร เช่น ดูโทรทัศน์ ฟังวิทยุ หรือทำงานที่ต้องใช้ความตั้งใจ]  \\\n",
              "0                                                  1                                         \n",
              "1                                                  3                                         \n",
              "2                                                  2                                         \n",
              "3                                                  2                                         \n",
              "4                                                  1                                         \n",
              "\n",
              "   ส่วนที่ 1 [พูดช้า ทำอะไรช้าลงจนคนอื่นสังเกตเห็นได้หรือกระสับกระส่ายไม่สามารถอยู่นิ่งได้เหมือนที่เคยเป็น]  \\\n",
              "0                                                  0                                                          \n",
              "1                                                  2                                                          \n",
              "2                                                  1                                                          \n",
              "3                                                  1                                                          \n",
              "4                                                  1                                                          \n",
              "\n",
              "   ...  ส่วนที่ 2 [ทำตัวให้ผ่อนคลายได้ยาก]  \\\n",
              "0  ...                                   0   \n",
              "1  ...                                   1   \n",
              "2  ...                                   2   \n",
              "3  ...                                   2   \n",
              "4  ...                                   1   \n",
              "\n",
              "   ส่วนที่ 2 [รู้สึกกระสับกระส่ายจนไม่สามารถนั่งนิ่งๆ ได้]  \\\n",
              "0                                                  0         \n",
              "1                                                  1         \n",
              "2                                                  1         \n",
              "3                                                  2         \n",
              "4                                                  1         \n",
              "\n",
              "   ส่วนที่ 2 [รู้สึกกลัวเหมือนว่าจะมีอะไรร้ายๆ เกิดขึ้น]  \\\n",
              "0                                                  0       \n",
              "1                                                  2       \n",
              "2                                                  2       \n",
              "3                                                  1       \n",
              "4                                                  1       \n",
              "\n",
              "   ส่วนที่ 3 [มีปัญหาการนอน นอนไม่หลับหรือนอนมาก]  ส่วนที่ 3 [มีสมาธิน้อยลง]  \\\n",
              "0                                               0                          0   \n",
              "1                                               1                          2   \n",
              "2                                               1                          1   \n",
              "3                                               2                          1   \n",
              "4                                               1                          1   \n",
              "\n",
              "   ส่วนที่ 3 [หงุดหงิด / กระวนกระวาย / ว้าวุ้นใจ]  \\\n",
              "0                                               0   \n",
              "1                                               2   \n",
              "2                                               1   \n",
              "3                                               1   \n",
              "4                                               2   \n",
              "\n",
              "   ส่วนที่ 3 [รู้สึกเบื่อ เซ็ง]  ส่วนที่ 3 [ไม่อยากพบปะผู้คน]  \\\n",
              "0                             0                             0   \n",
              "1                             2                             1   \n",
              "2                             1                             1   \n",
              "3                             2                             2   \n",
              "4                             3                             1   \n",
              "\n",
              "   ระดับเกรดเฉลี่ยของท่าน  ท่านมีความกังวลเรื่องใดมากที่สุด  \n",
              "0            3.00 -​ 4.00                          การเรียน  \n",
              "1            2.00 -​ 2.99                           การเงิน  \n",
              "2            3.00 -​ 4.00                          การเรียน  \n",
              "3            2.00 -​ 2.99                          การเรียน  \n",
              "4            3.00 -​ 4.00                          การเรียน  \n",
              "\n",
              "[5 rows x 24 columns]"
            ],
            "text/html": [
              "\n",
              "  <div id=\"df-f7903b35-3190-47a3-9b6f-446c5588f7d9\" class=\"colab-df-container\">\n",
              "    <div>\n",
              "<style scoped>\n",
              "    .dataframe tbody tr th:only-of-type {\n",
              "        vertical-align: middle;\n",
              "    }\n",
              "\n",
              "    .dataframe tbody tr th {\n",
              "        vertical-align: top;\n",
              "    }\n",
              "\n",
              "    .dataframe thead th {\n",
              "        text-align: right;\n",
              "    }\n",
              "</style>\n",
              "<table border=\"1\" class=\"dataframe\">\n",
              "  <thead>\n",
              "    <tr style=\"text-align: right;\">\n",
              "      <th></th>\n",
              "      <th>อายุ</th>\n",
              "      <th>เพศ</th>\n",
              "      <th>ส่วนที่ 1 [ท่านรู้สึกเบื่อ ไม่สนใจอยากทำอะไร]</th>\n",
              "      <th>ส่วนที่ 1 [ไม่สบายใจ ซึมเศร้า ท้อแท้]</th>\n",
              "      <th>ส่วนที่ 1 [หลับยากหรือหลับๆ ตื่นๆ]</th>\n",
              "      <th>ส่วนที่ 1 [เหนื่อยง่ายหรือไม่ค่อยมีแรง]</th>\n",
              "      <th>ส่วนที่ 1 [เบื่ออาหารหรือกินมากเกินไป]</th>\n",
              "      <th>ส่วนที่ 1 [รู้สึกไม่ดีกับตัวเองคิดว่าตัวเองล้มเหลวหรือครอบครัวผิดหวัง]</th>\n",
              "      <th>ส่วนที่ 1 [สมาธิไม่ดีเวลาทำอะไร เช่น ดูโทรทัศน์ ฟังวิทยุ หรือทำงานที่ต้องใช้ความตั้งใจ]</th>\n",
              "      <th>ส่วนที่ 1 [พูดช้า ทำอะไรช้าลงจนคนอื่นสังเกตเห็นได้หรือกระสับกระส่ายไม่สามารถอยู่นิ่งได้เหมือนที่เคยเป็น]</th>\n",
              "      <th>...</th>\n",
              "      <th>ส่วนที่ 2 [ทำตัวให้ผ่อนคลายได้ยาก]</th>\n",
              "      <th>ส่วนที่ 2 [รู้สึกกระสับกระส่ายจนไม่สามารถนั่งนิ่งๆ ได้]</th>\n",
              "      <th>ส่วนที่ 2 [รู้สึกกลัวเหมือนว่าจะมีอะไรร้ายๆ เกิดขึ้น]</th>\n",
              "      <th>ส่วนที่ 3 [มีปัญหาการนอน นอนไม่หลับหรือนอนมาก]</th>\n",
              "      <th>ส่วนที่ 3 [มีสมาธิน้อยลง]</th>\n",
              "      <th>ส่วนที่ 3 [หงุดหงิด / กระวนกระวาย / ว้าวุ้นใจ]</th>\n",
              "      <th>ส่วนที่ 3 [รู้สึกเบื่อ เซ็ง]</th>\n",
              "      <th>ส่วนที่ 3 [ไม่อยากพบปะผู้คน]</th>\n",
              "      <th>ระดับเกรดเฉลี่ยของท่าน</th>\n",
              "      <th>ท่านมีความกังวลเรื่องใดมากที่สุด</th>\n",
              "    </tr>\n",
              "  </thead>\n",
              "  <tbody>\n",
              "    <tr>\n",
              "      <th>0</th>\n",
              "      <td>19-21 ปี</td>\n",
              "      <td>หญิง</td>\n",
              "      <td>0</td>\n",
              "      <td>0</td>\n",
              "      <td>1</td>\n",
              "      <td>0</td>\n",
              "      <td>1</td>\n",
              "      <td>0</td>\n",
              "      <td>1</td>\n",
              "      <td>0</td>\n",
              "      <td>...</td>\n",
              "      <td>0</td>\n",
              "      <td>0</td>\n",
              "      <td>0</td>\n",
              "      <td>0</td>\n",
              "      <td>0</td>\n",
              "      <td>0</td>\n",
              "      <td>0</td>\n",
              "      <td>0</td>\n",
              "      <td>3.00 -​ 4.00</td>\n",
              "      <td>การเรียน</td>\n",
              "    </tr>\n",
              "    <tr>\n",
              "      <th>1</th>\n",
              "      <td>22-24 ปี</td>\n",
              "      <td>หญิง</td>\n",
              "      <td>1</td>\n",
              "      <td>1</td>\n",
              "      <td>1</td>\n",
              "      <td>2</td>\n",
              "      <td>2</td>\n",
              "      <td>2</td>\n",
              "      <td>3</td>\n",
              "      <td>2</td>\n",
              "      <td>...</td>\n",
              "      <td>1</td>\n",
              "      <td>1</td>\n",
              "      <td>2</td>\n",
              "      <td>1</td>\n",
              "      <td>2</td>\n",
              "      <td>2</td>\n",
              "      <td>2</td>\n",
              "      <td>1</td>\n",
              "      <td>2.00 -​ 2.99</td>\n",
              "      <td>การเงิน</td>\n",
              "    </tr>\n",
              "    <tr>\n",
              "      <th>2</th>\n",
              "      <td>19-21 ปี</td>\n",
              "      <td>LGBTQ+</td>\n",
              "      <td>1</td>\n",
              "      <td>2</td>\n",
              "      <td>2</td>\n",
              "      <td>1</td>\n",
              "      <td>2</td>\n",
              "      <td>2</td>\n",
              "      <td>2</td>\n",
              "      <td>1</td>\n",
              "      <td>...</td>\n",
              "      <td>2</td>\n",
              "      <td>1</td>\n",
              "      <td>2</td>\n",
              "      <td>1</td>\n",
              "      <td>1</td>\n",
              "      <td>1</td>\n",
              "      <td>1</td>\n",
              "      <td>1</td>\n",
              "      <td>3.00 -​ 4.00</td>\n",
              "      <td>การเรียน</td>\n",
              "    </tr>\n",
              "    <tr>\n",
              "      <th>3</th>\n",
              "      <td>19-21 ปี</td>\n",
              "      <td>หญิง</td>\n",
              "      <td>1</td>\n",
              "      <td>1</td>\n",
              "      <td>2</td>\n",
              "      <td>1</td>\n",
              "      <td>1</td>\n",
              "      <td>0</td>\n",
              "      <td>2</td>\n",
              "      <td>1</td>\n",
              "      <td>...</td>\n",
              "      <td>2</td>\n",
              "      <td>2</td>\n",
              "      <td>1</td>\n",
              "      <td>2</td>\n",
              "      <td>1</td>\n",
              "      <td>1</td>\n",
              "      <td>2</td>\n",
              "      <td>2</td>\n",
              "      <td>2.00 -​ 2.99</td>\n",
              "      <td>การเรียน</td>\n",
              "    </tr>\n",
              "    <tr>\n",
              "      <th>4</th>\n",
              "      <td>19-21 ปี</td>\n",
              "      <td>หญิง</td>\n",
              "      <td>3</td>\n",
              "      <td>2</td>\n",
              "      <td>1</td>\n",
              "      <td>3</td>\n",
              "      <td>1</td>\n",
              "      <td>2</td>\n",
              "      <td>1</td>\n",
              "      <td>1</td>\n",
              "      <td>...</td>\n",
              "      <td>1</td>\n",
              "      <td>1</td>\n",
              "      <td>1</td>\n",
              "      <td>1</td>\n",
              "      <td>1</td>\n",
              "      <td>2</td>\n",
              "      <td>3</td>\n",
              "      <td>1</td>\n",
              "      <td>3.00 -​ 4.00</td>\n",
              "      <td>การเรียน</td>\n",
              "    </tr>\n",
              "  </tbody>\n",
              "</table>\n",
              "<p>5 rows × 24 columns</p>\n",
              "</div>\n",
              "    <div class=\"colab-df-buttons\">\n",
              "\n",
              "  <div class=\"colab-df-container\">\n",
              "    <button class=\"colab-df-convert\" onclick=\"convertToInteractive('df-f7903b35-3190-47a3-9b6f-446c5588f7d9')\"\n",
              "            title=\"Convert this dataframe to an interactive table.\"\n",
              "            style=\"display:none;\">\n",
              "\n",
              "  <svg xmlns=\"http://www.w3.org/2000/svg\" height=\"24px\" viewBox=\"0 -960 960 960\">\n",
              "    <path d=\"M120-120v-720h720v720H120Zm60-500h600v-160H180v160Zm220 220h160v-160H400v160Zm0 220h160v-160H400v160ZM180-400h160v-160H180v160Zm440 0h160v-160H620v160ZM180-180h160v-160H180v160Zm440 0h160v-160H620v160Z\"/>\n",
              "  </svg>\n",
              "    </button>\n",
              "\n",
              "  <style>\n",
              "    .colab-df-container {\n",
              "      display:flex;\n",
              "      gap: 12px;\n",
              "    }\n",
              "\n",
              "    .colab-df-convert {\n",
              "      background-color: #E8F0FE;\n",
              "      border: none;\n",
              "      border-radius: 50%;\n",
              "      cursor: pointer;\n",
              "      display: none;\n",
              "      fill: #1967D2;\n",
              "      height: 32px;\n",
              "      padding: 0 0 0 0;\n",
              "      width: 32px;\n",
              "    }\n",
              "\n",
              "    .colab-df-convert:hover {\n",
              "      background-color: #E2EBFA;\n",
              "      box-shadow: 0px 1px 2px rgba(60, 64, 67, 0.3), 0px 1px 3px 1px rgba(60, 64, 67, 0.15);\n",
              "      fill: #174EA6;\n",
              "    }\n",
              "\n",
              "    .colab-df-buttons div {\n",
              "      margin-bottom: 4px;\n",
              "    }\n",
              "\n",
              "    [theme=dark] .colab-df-convert {\n",
              "      background-color: #3B4455;\n",
              "      fill: #D2E3FC;\n",
              "    }\n",
              "\n",
              "    [theme=dark] .colab-df-convert:hover {\n",
              "      background-color: #434B5C;\n",
              "      box-shadow: 0px 1px 3px 1px rgba(0, 0, 0, 0.15);\n",
              "      filter: drop-shadow(0px 1px 2px rgba(0, 0, 0, 0.3));\n",
              "      fill: #FFFFFF;\n",
              "    }\n",
              "  </style>\n",
              "\n",
              "    <script>\n",
              "      const buttonEl =\n",
              "        document.querySelector('#df-f7903b35-3190-47a3-9b6f-446c5588f7d9 button.colab-df-convert');\n",
              "      buttonEl.style.display =\n",
              "        google.colab.kernel.accessAllowed ? 'block' : 'none';\n",
              "\n",
              "      async function convertToInteractive(key) {\n",
              "        const element = document.querySelector('#df-f7903b35-3190-47a3-9b6f-446c5588f7d9');\n",
              "        const dataTable =\n",
              "          await google.colab.kernel.invokeFunction('convertToInteractive',\n",
              "                                                    [key], {});\n",
              "        if (!dataTable) return;\n",
              "\n",
              "        const docLinkHtml = 'Like what you see? Visit the ' +\n",
              "          '<a target=\"_blank\" href=https://colab.research.google.com/notebooks/data_table.ipynb>data table notebook</a>'\n",
              "          + ' to learn more about interactive tables.';\n",
              "        element.innerHTML = '';\n",
              "        dataTable['output_type'] = 'display_data';\n",
              "        await google.colab.output.renderOutput(dataTable, element);\n",
              "        const docLink = document.createElement('div');\n",
              "        docLink.innerHTML = docLinkHtml;\n",
              "        element.appendChild(docLink);\n",
              "      }\n",
              "    </script>\n",
              "  </div>\n",
              "\n",
              "\n",
              "<div id=\"df-00490be7-cc00-475f-bb43-1e2d430f1d61\">\n",
              "  <button class=\"colab-df-quickchart\" onclick=\"quickchart('df-00490be7-cc00-475f-bb43-1e2d430f1d61')\"\n",
              "            title=\"Suggest charts.\"\n",
              "            style=\"display:none;\">\n",
              "\n",
              "<svg xmlns=\"http://www.w3.org/2000/svg\" height=\"24px\"viewBox=\"0 0 24 24\"\n",
              "     width=\"24px\">\n",
              "    <g>\n",
              "        <path d=\"M19 3H5c-1.1 0-2 .9-2 2v14c0 1.1.9 2 2 2h14c1.1 0 2-.9 2-2V5c0-1.1-.9-2-2-2zM9 17H7v-7h2v7zm4 0h-2V7h2v10zm4 0h-2v-4h2v4z\"/>\n",
              "    </g>\n",
              "</svg>\n",
              "  </button>\n",
              "\n",
              "<style>\n",
              "  .colab-df-quickchart {\n",
              "      --bg-color: #E8F0FE;\n",
              "      --fill-color: #1967D2;\n",
              "      --hover-bg-color: #E2EBFA;\n",
              "      --hover-fill-color: #174EA6;\n",
              "      --disabled-fill-color: #AAA;\n",
              "      --disabled-bg-color: #DDD;\n",
              "  }\n",
              "\n",
              "  [theme=dark] .colab-df-quickchart {\n",
              "      --bg-color: #3B4455;\n",
              "      --fill-color: #D2E3FC;\n",
              "      --hover-bg-color: #434B5C;\n",
              "      --hover-fill-color: #FFFFFF;\n",
              "      --disabled-bg-color: #3B4455;\n",
              "      --disabled-fill-color: #666;\n",
              "  }\n",
              "\n",
              "  .colab-df-quickchart {\n",
              "    background-color: var(--bg-color);\n",
              "    border: none;\n",
              "    border-radius: 50%;\n",
              "    cursor: pointer;\n",
              "    display: none;\n",
              "    fill: var(--fill-color);\n",
              "    height: 32px;\n",
              "    padding: 0;\n",
              "    width: 32px;\n",
              "  }\n",
              "\n",
              "  .colab-df-quickchart:hover {\n",
              "    background-color: var(--hover-bg-color);\n",
              "    box-shadow: 0 1px 2px rgba(60, 64, 67, 0.3), 0 1px 3px 1px rgba(60, 64, 67, 0.15);\n",
              "    fill: var(--button-hover-fill-color);\n",
              "  }\n",
              "\n",
              "  .colab-df-quickchart-complete:disabled,\n",
              "  .colab-df-quickchart-complete:disabled:hover {\n",
              "    background-color: var(--disabled-bg-color);\n",
              "    fill: var(--disabled-fill-color);\n",
              "    box-shadow: none;\n",
              "  }\n",
              "\n",
              "  .colab-df-spinner {\n",
              "    border: 2px solid var(--fill-color);\n",
              "    border-color: transparent;\n",
              "    border-bottom-color: var(--fill-color);\n",
              "    animation:\n",
              "      spin 1s steps(1) infinite;\n",
              "  }\n",
              "\n",
              "  @keyframes spin {\n",
              "    0% {\n",
              "      border-color: transparent;\n",
              "      border-bottom-color: var(--fill-color);\n",
              "      border-left-color: var(--fill-color);\n",
              "    }\n",
              "    20% {\n",
              "      border-color: transparent;\n",
              "      border-left-color: var(--fill-color);\n",
              "      border-top-color: var(--fill-color);\n",
              "    }\n",
              "    30% {\n",
              "      border-color: transparent;\n",
              "      border-left-color: var(--fill-color);\n",
              "      border-top-color: var(--fill-color);\n",
              "      border-right-color: var(--fill-color);\n",
              "    }\n",
              "    40% {\n",
              "      border-color: transparent;\n",
              "      border-right-color: var(--fill-color);\n",
              "      border-top-color: var(--fill-color);\n",
              "    }\n",
              "    60% {\n",
              "      border-color: transparent;\n",
              "      border-right-color: var(--fill-color);\n",
              "    }\n",
              "    80% {\n",
              "      border-color: transparent;\n",
              "      border-right-color: var(--fill-color);\n",
              "      border-bottom-color: var(--fill-color);\n",
              "    }\n",
              "    90% {\n",
              "      border-color: transparent;\n",
              "      border-bottom-color: var(--fill-color);\n",
              "    }\n",
              "  }\n",
              "</style>\n",
              "\n",
              "  <script>\n",
              "    async function quickchart(key) {\n",
              "      const quickchartButtonEl =\n",
              "        document.querySelector('#' + key + ' button');\n",
              "      quickchartButtonEl.disabled = true;  // To prevent multiple clicks.\n",
              "      quickchartButtonEl.classList.add('colab-df-spinner');\n",
              "      try {\n",
              "        const charts = await google.colab.kernel.invokeFunction(\n",
              "            'suggestCharts', [key], {});\n",
              "      } catch (error) {\n",
              "        console.error('Error during call to suggestCharts:', error);\n",
              "      }\n",
              "      quickchartButtonEl.classList.remove('colab-df-spinner');\n",
              "      quickchartButtonEl.classList.add('colab-df-quickchart-complete');\n",
              "    }\n",
              "    (() => {\n",
              "      let quickchartButtonEl =\n",
              "        document.querySelector('#df-00490be7-cc00-475f-bb43-1e2d430f1d61 button');\n",
              "      quickchartButtonEl.style.display =\n",
              "        google.colab.kernel.accessAllowed ? 'block' : 'none';\n",
              "    })();\n",
              "  </script>\n",
              "</div>\n",
              "    </div>\n",
              "  </div>\n"
            ]
          },
          "metadata": {},
          "execution_count": 6
        }
      ],
      "source": [
        "question_mapping = {\"ไม่มีเลย\": 0, \"เป็นบางวัน (1-7 วัน)\": 1, \"เป็นบ่อย (>7 วัน)\": 2, \"เป็นทุกวัน\": 3}\n",
        "\n",
        "columns_to_encode = df.columns[2:22]\n",
        "df[columns_to_encode] = df[columns_to_encode].replace(question_mapping)\n",
        "\n",
        "df.head()"
      ]
    },
    {
      "cell_type": "markdown",
      "source": [
        "# Encode (one-hot encoding)"
      ],
      "metadata": {
        "id": "SC8rKUGQ2URV"
      }
    },
    {
      "cell_type": "code",
      "source": [
        "from sklearn.preprocessing import OneHotEncoder\n",
        "import numpy as np\n",
        "\n",
        "onehot = OneHotEncoder(sparse_output=True)\n",
        "\n",
        "age_encoded = onehot.fit_transform(df['อายุ'].values.reshape(-1, 1))\n",
        "age_nominals = pd.DataFrame(age_encoded.toarray(), columns=['13-15 ปี', '16-18 ปี', '19-21 ปี','22-24 ปี','25 ปีขึ้น'])\n",
        "\n",
        "sex_encoded = onehot.fit_transform(df['เพศ'].values.reshape(-1, 1))\n",
        "sex_nominals = pd.DataFrame(sex_encoded.toarray(), columns=['หญิง', 'ชาย', 'LGBTQ+'])\n",
        "\n",
        "grade_encoded = onehot.fit_transform(df['ระดับเกรดเฉลี่ยของท่าน'].values.reshape(-1, 1))\n",
        "grade_nominals = pd.DataFrame(grade_encoded.toarray(), columns=['0.00 -​ 1.99', '2.00 -​ 2.99', '3.00 -​ 4.00'])\n",
        "\n",
        "concerns_encoded = onehot.fit_transform(df['ท่านมีความกังวลเรื่องใดมากที่สุด'].values.reshape(-1, 1))\n",
        "concerns_nominals = pd.DataFrame(concerns_encoded.toarray(), columns=['การเรียน', 'ครอบครัว​', 'ความรัก','การเงิน','เพื่อน','อนาคตหลังเรียนจบ','ไม่สามารถระบุได้ มีหลายๆอย่างปนกัน'])\n",
        "\n",
        "#_nominals.head()"
      ],
      "metadata": {
        "id": "rH2lKNrD2aVh"
      },
      "execution_count": null,
      "outputs": []
    },
    {
      "cell_type": "markdown",
      "source": [
        "\n",
        "# Outliner"
      ],
      "metadata": {
        "id": "NvAf5kD22GCj"
      }
    },
    {
      "cell_type": "code",
      "execution_count": null,
      "metadata": {
        "id": "FrtrjDuG3OPX"
      },
      "outputs": [],
      "source": [
        "from sklearn.datasets import fetch_california_housing\n",
        "\n",
        "df.plot(kind=\"box\", subplots=True, layout=(5,5), figsize=(10,10))"
      ]
    },
    {
      "cell_type": "code",
      "execution_count": null,
      "metadata": {
        "id": "GOwCe1VF6KKK"
      },
      "outputs": [],
      "source": [
        "\n",
        "columns_to_plot = df.columns[2:22]\n",
        "\n",
        "df_numeric = df[columns_to_plot]\n",
        "\n",
        "\n",
        "Q1 = df_numeric.quantile(0.25)\n",
        "Q3 = df_numeric.quantile(0.75)\n",
        "IQR = Q3 - Q1\n",
        "outliers_mask = ((df_numeric < (Q1 - 1.5 * IQR)) | (df_numeric > (Q3 + 1.5 * IQR))).any(axis=1)\n",
        "df_filtered = df[~outliers_mask]\n",
        "\n",
        "df.plot(kind=\"box\", subplots=True, layout=(5,5), figsize=(10,10))"
      ]
    },
    {
      "cell_type": "markdown",
      "source": [
        "# column สุขภาพจิตแต่ละประเภท (ซึมเศร้า,วิตกกังวล,เครียด)"
      ],
      "metadata": {
        "id": "1r3K6Gfa7KK1"
      }
    },
    {
      "cell_type": "code",
      "source": [
        "depression_threshold = 7\n",
        "anxiety_threshold = 10\n",
        "stress_threshold = 5\n",
        "\n",
        "# Calculate mental health scores\n",
        "df[\"depression\"] = df.iloc[:, 2:11].sum(axis=1)\n",
        "df[\"anxiety\"] = df.iloc[:, 11:17].sum(axis=1)\n",
        "df[\"stress\"] = df.iloc[:, 17:22].sum(axis=1)\n",
        "\n",
        "def determine_mental_health_type(row):\n",
        "    if row[\"depression\"] >= depression_threshold:\n",
        "      depression = row[\"depression\"]/9\n",
        "    else:\n",
        "      depression = 0\n",
        "    if row[\"anxiety\"] >= anxiety_threshold:\n",
        "      anxiety = row[\"anxiety\"]/6\n",
        "    else:\n",
        "      anxiety = 0\n",
        "    if row[\"stress\"] >= stress_threshold:\n",
        "      stress = row[\"stress\"]/5\n",
        "    else:\n",
        "      stress = 0\n",
        "    mental = max(depression, anxiety, stress)\n",
        "    if mental == 0:\n",
        "      return \"good\"\n",
        "    elif mental == depression:\n",
        "      return \"depression\"\n",
        "    elif mental == anxiety:\n",
        "      return \"anxiety\"\n",
        "    elif mental == stress:\n",
        "      return \"stress\"\n",
        "\n",
        "# Apply the function to each row\n",
        "df[\"Mental Health\"] = df.apply(determine_mental_health_type, axis=1)\n",
        "df[\"Mental Health\"]"
      ],
      "metadata": {
        "id": "nCOiWX247eKd",
        "colab": {
          "base_uri": "https://localhost:8080/"
        },
        "outputId": "40c04ae6-3ee3-4848-9f2f-2a0e79c2f989"
      },
      "execution_count": null,
      "outputs": [
        {
          "output_type": "execute_result",
          "data": {
            "text/plain": [
              "0            good\n",
              "1      depression\n",
              "2      depression\n",
              "3         anxiety\n",
              "4          stress\n",
              "          ...    \n",
              "102    depression\n",
              "103       anxiety\n",
              "104        stress\n",
              "105        stress\n",
              "106        stress\n",
              "Name: Mental Health, Length: 107, dtype: object"
            ]
          },
          "metadata": {},
          "execution_count": 10
        }
      ]
    },
    {
      "cell_type": "code",
      "source": [
        "label_encoder = LabelEncoder()\n",
        "#df['Mental Health'] = label_encoder.fit_transform(df['Mental Health'])\n",
        "df['อายุ'] = label_encoder.fit_transform(df['อายุ'])\n",
        "df['เพศ'] = label_encoder.fit_transform(df['เพศ'])\n",
        "df['ระดับเกรดเฉลี่ยของท่าน'] = label_encoder.fit_transform(df['ระดับเกรดเฉลี่ยของท่าน'])\n",
        "df['ท่านมีความกังวลเรื่องใดมากที่สุด'] = label_encoder.fit_transform(df['ท่านมีความกังวลเรื่องใดมากที่สุด'])"
      ],
      "metadata": {
        "id": "-tzpYeAVNJo9"
      },
      "execution_count": null,
      "outputs": []
    },
    {
      "cell_type": "code",
      "source": [
        "df.tail(50)"
      ],
      "metadata": {
        "id": "1mSHjrjjHWcX"
      },
      "execution_count": null,
      "outputs": []
    },
    {
      "cell_type": "code",
      "source": [
        "df.shape"
      ],
      "metadata": {
        "colab": {
          "base_uri": "https://localhost:8080/"
        },
        "id": "66Ovv0DyZGs_",
        "outputId": "76f8bfd0-baee-4755-be7d-6961d5dcf601"
      },
      "execution_count": null,
      "outputs": [
        {
          "output_type": "execute_result",
          "data": {
            "text/plain": [
              "(107, 28)"
            ]
          },
          "metadata": {},
          "execution_count": 13
        }
      ]
    },
    {
      "cell_type": "markdown",
      "source": [
        "# K-NN"
      ],
      "metadata": {
        "id": "yEXCqzR8f5OG"
      }
    },
    {
      "cell_type": "code",
      "source": [
        "X = df.iloc[:, 0:-1]\n",
        "y = df['Mental Health']\n",
        "\n",
        "X_train, X_test, y_train, y_test = train_test_split(X, y, test_size=0.2, random_state=42)\n",
        "\n",
        "knn = KNeighborsClassifier(n_neighbors=3)\n",
        "\n",
        "knn.fit(X_train, y_train)\n",
        "\n",
        "y_pred = knn.predict(X_test)\n",
        "\n",
        "accuracy = accuracy_score(y_test, y_pred)\n",
        "classification_rep = classification_report(y_test, y_pred)\n",
        "conf_matrix = confusion_matrix(y_test, y_pred)\n",
        "\n",
        "print(\"Accuracy:\", accuracy)\n",
        "print(\"Classification Report:\\n\", classification_rep)"
      ],
      "metadata": {
        "id": "b5CrmX9AM-UT"
      },
      "execution_count": null,
      "outputs": []
    },
    {
      "cell_type": "code",
      "source": [
        "predicted_random = knn.predict([[1,2,0,3,1,3,2,1,3,0,2,1,3,0,2,1,1,0,2,3,0,1,2,3,7,3,2]]) #good\n",
        "predicted_random1 = knn.predict([[2,1,1,1,1,1,1,1,1,1,1,1,1,1,1,1,1,1,1,1,1,1,1,1,1,1,1]]) #good\n",
        "\n",
        "predicted4 = knn.predict([[2,2,3,2,1,3,1,2,1,1,0,3,1,2,1,1,1,1,1,2,3,1,2,1,14,9,8]]) #true : anxiety\n",
        "predicted1 = knn.predict([[3,2,1,1,1,2,2,2,3,2,2,1,1,1,1,1,2,1,2,2,2,1,1,0,16,7,8]]) #true : depression\n",
        "predicted6 = knn.predict([[2,0,1,1,3,1,2,1,1,1,0,2,1,1,2,1,1,3,1,1,2,1,2,0,11,8,8]]) #true : stress\n",
        "predicted10 = knn.predict([[1,0,3,1,0,2,1,1,1,2,0,1,2,1,1,1,0,2,2,3,3,1,2,2,11,6,11]]) #true : stress\n",
        "predicted106 = knn.predict([[4,2,1,1,0,1,0,0,0,1,0,2,1,1,1,2,1,1,0,2,0,2,1,5,4,8,5]]) #true : stress\n",
        "predicted102 = knn.predict([[2,2,1,1,2,2,3,0,1,1,0,1,0,2,0,0,0,1,1,1,1,1,2,0,11,3,5]]) #true : depression\n",
        "predicted97 = knn.predict([[2,0,2,1,0,0,2,0,1,0,0,1,0,1,0,0,1,0,0,1,2,1,2,0,6,3,4]]) #true : good\n",
        "predicted57 = knn.predict([[4,2,2,2,2,2,2,2,2,2,2,2,1,1,2,1,1,1,1,2,1,1,2,0,18,8,6]]) #true : depression\n",
        "predicted68 = knn.predict([[2,2,1,1,1,1,2,1,3,1,3,3,2,1,3,1,2,2,1,2,1,2,2,2,14,12,8]]) #true : anxiety\n",
        "\n",
        "print(\"Predicted Value:\", predicted4)"
      ],
      "metadata": {
        "id": "AYaDVPpAeMpy",
        "colab": {
          "base_uri": "https://localhost:8080/"
        },
        "outputId": "dace970b-6454-4e2c-fdff-3edc663300e9"
      },
      "execution_count": null,
      "outputs": [
        {
          "output_type": "stream",
          "name": "stdout",
          "text": [
            "Predicted Value: ['anxiety']\n"
          ]
        },
        {
          "output_type": "stream",
          "name": "stderr",
          "text": [
            "/usr/local/lib/python3.10/dist-packages/sklearn/base.py:439: UserWarning: X does not have valid feature names, but KNeighborsClassifier was fitted with feature names\n",
            "  warnings.warn(\n",
            "/usr/local/lib/python3.10/dist-packages/sklearn/base.py:439: UserWarning: X does not have valid feature names, but KNeighborsClassifier was fitted with feature names\n",
            "  warnings.warn(\n",
            "/usr/local/lib/python3.10/dist-packages/sklearn/base.py:439: UserWarning: X does not have valid feature names, but KNeighborsClassifier was fitted with feature names\n",
            "  warnings.warn(\n",
            "/usr/local/lib/python3.10/dist-packages/sklearn/base.py:439: UserWarning: X does not have valid feature names, but KNeighborsClassifier was fitted with feature names\n",
            "  warnings.warn(\n",
            "/usr/local/lib/python3.10/dist-packages/sklearn/base.py:439: UserWarning: X does not have valid feature names, but KNeighborsClassifier was fitted with feature names\n",
            "  warnings.warn(\n",
            "/usr/local/lib/python3.10/dist-packages/sklearn/base.py:439: UserWarning: X does not have valid feature names, but KNeighborsClassifier was fitted with feature names\n",
            "  warnings.warn(\n",
            "/usr/local/lib/python3.10/dist-packages/sklearn/base.py:439: UserWarning: X does not have valid feature names, but KNeighborsClassifier was fitted with feature names\n",
            "  warnings.warn(\n",
            "/usr/local/lib/python3.10/dist-packages/sklearn/base.py:439: UserWarning: X does not have valid feature names, but KNeighborsClassifier was fitted with feature names\n",
            "  warnings.warn(\n",
            "/usr/local/lib/python3.10/dist-packages/sklearn/base.py:439: UserWarning: X does not have valid feature names, but KNeighborsClassifier was fitted with feature names\n",
            "  warnings.warn(\n",
            "/usr/local/lib/python3.10/dist-packages/sklearn/base.py:439: UserWarning: X does not have valid feature names, but KNeighborsClassifier was fitted with feature names\n",
            "  warnings.warn(\n",
            "/usr/local/lib/python3.10/dist-packages/sklearn/base.py:439: UserWarning: X does not have valid feature names, but KNeighborsClassifier was fitted with feature names\n",
            "  warnings.warn(\n"
          ]
        }
      ]
    },
    {
      "cell_type": "markdown",
      "source": [
        "# Confusion Matrix"
      ],
      "metadata": {
        "id": "OkpVkrqRgBuH"
      }
    },
    {
      "cell_type": "code",
      "source": [
        "import pandas as pd\n",
        "from sklearn.model_selection import train_test_split\n",
        "from sklearn.preprocessing import LabelEncoder, OneHotEncoder\n",
        "from sklearn.neighbors import KNeighborsClassifier\n",
        "from sklearn.metrics import accuracy_score, classification_report, confusion_matrix\n",
        "import matplotlib.pyplot as plt\n",
        "import seaborn as sns\n",
        "\n",
        "plt.figure(figsize=(8, 6))\n",
        "sns.heatmap(conf_matrix, annot=True, fmt=\"d\", cmap=\"Blues\")\n",
        "plt.xlabel(\"Predicted\")\n",
        "plt.ylabel(\"Actual\")\n",
        "plt.title(\"Confusion Matrix\")\n",
        "plt.show()"
      ],
      "metadata": {
        "id": "w9ORMKb3RylW",
        "colab": {
          "base_uri": "https://localhost:8080/",
          "height": 564
        },
        "outputId": "d2213847-7e87-4c98-9020-c1cb174a8af0"
      },
      "execution_count": null,
      "outputs": [
        {
          "output_type": "display_data",
          "data": {
            "text/plain": [
              "<Figure size 800x600 with 2 Axes>"
            ],
            "image/png": "[encoded data removed]"
          },
          "metadata": {}
        }
      ]
    },
    {
      "cell_type": "markdown",
      "source": [
        "# Bar graph"
      ],
      "metadata": {
        "id": "4hK1RRjDgF2L"
      }
    },
    {
      "cell_type": "code",
      "source": [
        "import matplotlib.pyplot as plt\n",
        "import seaborn as sns\n",
        "\n",
        "# Define custom y-axis scale values and labels\n",
        "custom_x_values = [0, 1, 2, 3, 4]  # Adjust these values as needed\n",
        "custom_x_labels = [\"13-15 year\", \"16-18 year\", \"19-21 year\", \"22-24 year\", \"25 years and up\"]  # Labels corresponding to the scale values\n",
        "\n",
        "# Create a count plot\n",
        "plt.figure(figsize=(10, 6))\n",
        "ax = sns.countplot(x=\"อายุ\", hue=\"Mental Health\", data=df)\n",
        "\n",
        "# Customize the y-axis scale\n",
        "ax.set_xticks(custom_x_values)\n",
        "ax.set_xticklabels(custom_x_labels)\n",
        "\n",
        "# Customize the plot\n",
        "plt.title(\"Relationship between Concerns and Mental Health\")\n",
        "plt.xlabel(\"Age\")\n",
        "plt.ylabel(\"Count\")\n",
        "plt.xticks(rotation=90)  # Rotate x-axis labels for better readability\n",
        "\n",
        "# Show the plot\n",
        "plt.legend(title=\"Mental Health Type\", loc=\"upper right\")\n",
        "plt.tight_layout()\n",
        "plt.show()"
      ],
      "metadata": {
        "colab": {
          "base_uri": "https://localhost:8080/",
          "height": 607
        },
        "id": "8IsM_gAqhIyX",
        "outputId": "fd01d767-26d5-4bf0-b56b-7d270cdb28b9"
      },
      "execution_count": null,
      "outputs": [
        {
          "output_type": "display_data",
          "data": {
            "text/plain": [
              "<Figure size 1000x600 with 1 Axes>"
            ],
            "image/png": "[encoded data removed]"
          },
          "metadata": {}
        }
      ]
    },
    {
      "cell_type": "code",
      "source": [
        "# Define custom y-axis scale values and labels\n",
        "custom_x_values = [0, 1, 2, 3, 4, 5, 6]  # Adjust these values as needed\n",
        "custom_x_labels = [\"finance\", \"learning\", \"family\", \"love\", \"friends\", \"Other1\",\"Other2\"]  # Labels corresponding to the scale values\n",
        "\n",
        "# Create a count plot\n",
        "plt.figure(figsize=(10, 6))\n",
        "ax = sns.countplot(x=\"ท่านมีความกังวลเรื่องใดมากที่สุด\", hue=\"Mental Health\", data=df)\n",
        "\n",
        "# Customize the y-axis scale\n",
        "ax.set_xticks(custom_x_values)\n",
        "ax.set_xticklabels(custom_x_labels)\n",
        "\n",
        "# Customize the plot\n",
        "plt.title(\"Relationship between Concerns and Mental Health\")\n",
        "plt.xlabel(\"Concerns\")\n",
        "plt.ylabel(\"Count\")\n",
        "plt.xticks(rotation=90)  # Rotate x-axis labels for better readability\n",
        "\n",
        "# Show the plot\n",
        "plt.legend(title=\"Mental Health Type\", loc=\"upper right\")\n",
        "plt.tight_layout()\n",
        "plt.show()"
      ],
      "metadata": {
        "colab": {
          "base_uri": "https://localhost:8080/",
          "height": 607
        },
        "id": "1iS8pgznCn6K",
        "outputId": "3e982f43-3fd1-465d-dbe3-9d90af7ad590"
      },
      "execution_count": null,
      "outputs": [
        {
          "output_type": "display_data",
          "data": {
            "text/plain": [
              "<Figure size 1000x600 with 1 Axes>"
            ],
            "image/png": "[encoded data removed]"
          },
          "metadata": {}
        }
      ]
    },
    {
      "cell_type": "code",
      "source": [
        "# Define custom y-axis scale values and labels\n",
        "custom_x_values = [0, 1, 2]  # Adjust these values as needed\n",
        "custom_x_labels = [\"0.00-​1.99\", \"2.00-​2.99\", \"3.00-​4.00\"]  # Labels corresponding to the scale values\n",
        "\n",
        "# Create a count plot\n",
        "plt.figure(figsize=(10, 6))\n",
        "ax = sns.countplot(x=\"ระดับเกรดเฉลี่ยของท่าน\", hue=\"Mental Health\", data=df)\n",
        "\n",
        "# Customize the y-axis scale\n",
        "ax.set_xticks(custom_x_values)\n",
        "ax.set_xticklabels(custom_x_labels)\n",
        "\n",
        "# Customize the plot\n",
        "plt.title(\"Relationship between Grade and Mental Health\")\n",
        "plt.xlabel(\"Grade Level\")\n",
        "plt.ylabel(\"Count\")\n",
        "plt.xticks(rotation=90)  # Rotate x-axis labels for better readability\n",
        "\n",
        "# Show the plot\n",
        "plt.legend(title=\"Mental Health Type\", loc=\"upper left\")\n",
        "plt.tight_layout()\n",
        "plt.show()"
      ],
      "metadata": {
        "colab": {
          "base_uri": "https://localhost:8080/",
          "height": 607
        },
        "id": "HB04uMyINpXF",
        "outputId": "9281b479-f834-443f-cc50-57027a828b1c"
      },
      "execution_count": null,
      "outputs": [
        {
          "output_type": "display_data",
          "data": {
            "text/plain": [
              "<Figure size 1000x600 with 1 Axes>"
            ],
            "image/png": "[encoded data removed]"
          },
          "metadata": {}
        }
      ]
    },
    {
      "cell_type": "code",
      "source": [
        "df.groupby(['ท่านมีความกังวลเรื่องใดมากที่สุด'])['อายุ'].count().plot(kind='pie')\n",
        "\n",
        "custom_labels = ['finance', 'learning', 'family', 'love', 'friends','Other1','Other2']\n",
        "plt.legend(title=\"Concern\",labels = custom_labels, loc=\"upper right\")\n"
      ],
      "metadata": {
        "colab": {
          "base_uri": "https://localhost:8080/",
          "height": 701
        },
        "id": "Anr809RH5e3z",
        "outputId": "5ed8f130-9466-4226-f46d-7c7593a38295"
      },
      "execution_count": null,
      "outputs": [
        {
          "output_type": "execute_result",
          "data": {
            "text/plain": [
              "<matplotlib.legend.Legend at 0x78f5e382d270>"
            ]
          },
          "metadata": {},
          "execution_count": 20
        },
        {
          "output_type": "stream",
          "name": "stderr",
          "text": [
            "/usr/local/lib/python3.10/dist-packages/IPython/core/events.py:89: UserWarning: Glyph 3629 (\\N{THAI CHARACTER O ANG}) missing from current font.\n",
            "  func(*args, **kwargs)\n",
            "/usr/local/lib/python3.10/dist-packages/IPython/core/events.py:89: UserWarning: Glyph 3634 (\\N{THAI CHARACTER SARA AA}) missing from current font.\n",
            "  func(*args, **kwargs)\n",
            "/usr/local/lib/python3.10/dist-packages/IPython/core/events.py:89: UserWarning: Glyph 3618 (\\N{THAI CHARACTER YO YAK}) missing from current font.\n",
            "  func(*args, **kwargs)\n",
            "/usr/local/lib/python3.10/dist-packages/IPython/core/events.py:89: UserWarning: Glyph 3640 (\\N{THAI CHARACTER SARA U}) missing from current font.\n",
            "  func(*args, **kwargs)\n",
            "/usr/local/lib/python3.10/dist-packages/IPython/core/pylabtools.py:151: UserWarning: Glyph 3629 (\\N{THAI CHARACTER O ANG}) missing from current font.\n",
            "  fig.canvas.print_figure(bytes_io, **kw)\n",
            "/usr/local/lib/python3.10/dist-packages/IPython/core/pylabtools.py:151: UserWarning: Glyph 3634 (\\N{THAI CHARACTER SARA AA}) missing from current font.\n",
            "  fig.canvas.print_figure(bytes_io, **kw)\n",
            "/usr/local/lib/python3.10/dist-packages/IPython/core/pylabtools.py:151: UserWarning: Glyph 3618 (\\N{THAI CHARACTER YO YAK}) missing from current font.\n",
            "  fig.canvas.print_figure(bytes_io, **kw)\n",
            "/usr/local/lib/python3.10/dist-packages/IPython/core/pylabtools.py:151: UserWarning: Glyph 3640 (\\N{THAI CHARACTER SARA U}) missing from current font.\n",
            "  fig.canvas.print_figure(bytes_io, **kw)\n"
          ]
        },
        {
          "output_type": "display_data",
          "data": {
            "text/plain": [
              "<Figure size 640x480 with 1 Axes>"
            ],
            "image/png": "[encoded data removed]"
          },
          "metadata": {}
        }
      ]
    }
  ],
  "metadata": {
    "colab": {
      "provenance": [],
      "authorship_tag": "ABX9TyPbXyFqavMiSr5GWVvKg6qX",
      "include_colab_link": true
    },
    "kernelspec": {
      "display_name": "Python 3",
      "name": "python3"
    },
    "language_info": {
      "name": "python"
    }
  },
  "nbformat": 4,
  "nbformat_minor": 0
}